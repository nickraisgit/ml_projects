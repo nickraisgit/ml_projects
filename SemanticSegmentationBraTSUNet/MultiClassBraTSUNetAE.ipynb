{
 "cells": [
  {
   "cell_type": "code",
   "execution_count": 1,
   "metadata": {
    "colab": {
     "base_uri": "https://localhost:8080/"
    },
    "id": "qZd_aERdbezr",
    "outputId": "a0299b7d-574b-45e3-eb14-412b9dd6deb6"
   },
   "outputs": [
    {
     "name": "stdout",
     "output_type": "stream",
     "text": [
      "Looking in indexes: https://pypi.org/simple, https://us-python.pkg.dev/colab-wheels/public/simple/\n",
      "Requirement already satisfied: nibabel in /usr/local/lib/python3.8/dist-packages (3.0.2)\n",
      "Requirement already satisfied: numpy>=1.12 in /usr/local/lib/python3.8/dist-packages (from nibabel) (1.21.6)\n"
     ]
    }
   ],
   "source": [
    "!pip install nibabel"
   ]
  },
  {
   "cell_type": "code",
   "execution_count": 6,
   "metadata": {
    "id": "PQaZOLkkdUHG"
   },
   "outputs": [],
   "source": [
    "##Import necessary libraries\n",
    "import nibabel as nib\n",
    "import numpy as np\n",
    "import matplotlib.pyplot as plt\n",
    "from tensorflow import keras\n",
    "import tensorflow as tf\n",
    "from tensorflow.keras.optimizers import Adam"
   ]
  },
  {
   "cell_type": "code",
   "execution_count": 7,
   "metadata": {
    "id": "UUR9Uk5wdcNe"
   },
   "outputs": [],
   "source": [
    "##Function to load in images, only using 40 slices per MRI\n",
    "def load_data(imgs, file):\n",
    "    loaded = nib.load(file).get_fdata()\n",
    "    print(loaded.shape)\n",
    "\n",
    "    for i in range(40):   \n",
    "      imgs.append(loaded[:,:,50+i])"
   ]
  },
  {
   "cell_type": "code",
   "execution_count": 77,
   "metadata": {},
   "outputs": [],
   "source": [
    "##Create the U-Net Autoencoder\n",
    "def get_unit(latent_dim=128):\n",
    "    input = keras.layers.Input(shape = (240,240,1))\n",
    "    x = keras.layers.BatchNormalization()(input)\n",
    "    x1 = tf.keras.layers.Conv2D(64,kernel_size = (3,3), strides = 1, activation = 'relu', padding = 'same')(x)\n",
    "    x = tf.keras.layers.MaxPooling2D((2,2))(x)\n",
    "    x2 = tf.keras.layers.Conv2D(32, (3,3), strides = 1, activation = 'relu', padding = 'same')(x)\n",
    "    x = tf.keras.layers.MaxPooling2D((2,2))(x)\n",
    "    x3 = tf.keras.layers.Conv2D(16, (3,3), strides = 1, activation = 'relu', padding = 'same')(x)\n",
    "    shape_before_flatten = tf.keras.backend.int_shape(x)[1:]\n",
    "    x = tf.keras.layers.Flatten()(x)\n",
    "    x = tf.keras.layers.Dropout(0.2)(x)\n",
    "    x = tf.keras.layers.Dense(256, activation = 'relu')(x)\n",
    "    ##Create latent space vector\n",
    "    latent_vec = tf.keras.layers.Dense(latent_dim)(x)\n",
    "    x = tf.keras.layers.Dense(256, activation = 'relu')(latent_vec)\n",
    "    x = tf.keras.layers.Dense(units=np.prod(shape_before_flatten))(x)\n",
    "    x = tf.keras.layers.Reshape(target_shape = shape_before_flatten)(x)\n",
    "    x = tf.keras.layers.Dropout(0.2)(x)\n",
    "    x = tf.keras.layers.Conv2DTranspose(16, (3,3), strides = 1, activation = 'relu', padding = 'same')(x)\n",
    "    x = tf.keras.layers.Concatenate()([x, x3])\n",
    "    x = tf.keras.layers.Conv2D(16,kernel_size = (3,3), strides = 1, activation = 'relu', padding = 'same')(x)\n",
    "    x = tf.keras.layers.UpSampling2D((2,2))(x)\n",
    "    x = tf.keras.layers.Conv2DTranspose(32, (3,3), strides = 1, activation = 'relu', padding = 'same')(x)\n",
    "    x = tf.keras.layers.Concatenate()([x, x2])\n",
    "    x = tf.keras.layers.Conv2D(32,kernel_size = (3,3), strides = 1, activation = 'relu', padding = 'same')(x)\n",
    "    x = tf.keras.layers.UpSampling2D((2,2))(x)\n",
    "    x = tf.keras.layers.Conv2DTranspose(64, (3,3), strides = 1, activation = 'relu', padding = 'same')(x)\n",
    "    x = tf.keras.layers.Concatenate()([x, x1])\n",
    "    x = tf.keras.layers.Conv2D(64,kernel_size = (3,3), strides = 1, activation = 'relu', padding = 'same')(x)\n",
    "    output = tf.keras.layers.Conv2D(4, (3,3), strides = 1, activation = 'softmax', padding = 'same')(x)\n",
    "    \n",
    "    \n",
    "    model = keras.models.Model(input, output)\n",
    "    return model"
   ]
  },
  {
   "cell_type": "code",
   "execution_count": 24,
   "metadata": {
    "id": "sMC03d_Zq03Z"
   },
   "outputs": [],
   "source": [
    "file_dir= 'BratsData/'"
   ]
  },
  {
   "cell_type": "code",
   "execution_count": 25,
   "metadata": {
    "id": "BhoOEfm6d0Eb"
   },
   "outputs": [],
   "source": [
    "##Load in model\n",
    "model = get_unit()"
   ]
  },
  {
   "cell_type": "code",
   "execution_count": 26,
   "metadata": {
    "id": "XOuZGaL8eDKz"
   },
   "outputs": [],
   "source": [
    "##Create optimizer\n",
    "opt = Adam(\n",
    "    learning_rate=0.000015,\n",
    "    epsilon=1e-08)"
   ]
  },
  {
   "cell_type": "code",
   "execution_count": 80,
   "metadata": {
    "colab": {
     "base_uri": "https://localhost:8080/"
    },
    "id": "zgaFWiz3mkdu",
    "outputId": "57085ec2-09b7-49d5-aded-5744be5a4558"
   },
   "outputs": [
    {
     "name": "stdout",
     "output_type": "stream",
     "text": [
      "Model: \"model_1\"\n",
      "__________________________________________________________________________________________________\n",
      " Layer (type)                   Output Shape         Param #     Connected to                     \n",
      "==================================================================================================\n",
      " input_3 (InputLayer)           [(None, 240, 240, 1  0           []                               \n",
      "                                )]                                                                \n",
      "                                                                                                  \n",
      " batch_normalization_2 (BatchNo  (None, 240, 240, 1)  4          ['input_3[0][0]']                \n",
      " rmalization)                                                                                     \n",
      "                                                                                                  \n",
      " max_pooling2d_4 (MaxPooling2D)  (None, 120, 120, 1)  0          ['batch_normalization_2[0][0]']  \n",
      "                                                                                                  \n",
      " max_pooling2d_5 (MaxPooling2D)  (None, 60, 60, 1)   0           ['max_pooling2d_4[0][0]']        \n",
      "                                                                                                  \n",
      " flatten_2 (Flatten)            (None, 3600)         0           ['max_pooling2d_5[0][0]']        \n",
      "                                                                                                  \n",
      " dropout_4 (Dropout)            (None, 3600)         0           ['flatten_2[0][0]']              \n",
      "                                                                                                  \n",
      " dense_8 (Dense)                (None, 256)          921856      ['dropout_4[0][0]']              \n",
      "                                                                                                  \n",
      " dense_9 (Dense)                (None, 128)          32896       ['dense_8[0][0]']                \n",
      "                                                                                                  \n",
      " dense_10 (Dense)               (None, 256)          33024       ['dense_9[0][0]']                \n",
      "                                                                                                  \n",
      " dense_11 (Dense)               (None, 3600)         925200      ['dense_10[0][0]']               \n",
      "                                                                                                  \n",
      " reshape_2 (Reshape)            (None, 60, 60, 1)    0           ['dense_11[0][0]']               \n",
      "                                                                                                  \n",
      " dropout_5 (Dropout)            (None, 60, 60, 1)    0           ['reshape_2[0][0]']              \n",
      "                                                                                                  \n",
      " conv2d_transpose_4 (Conv2DTran  (None, 60, 60, 16)  160         ['dropout_5[0][0]']              \n",
      " spose)                                                                                           \n",
      "                                                                                                  \n",
      " conv2d_12 (Conv2D)             (None, 60, 60, 16)   160         ['max_pooling2d_5[0][0]']        \n",
      "                                                                                                  \n",
      " concatenate_3 (Concatenate)    (None, 60, 60, 32)   0           ['conv2d_transpose_4[0][0]',     \n",
      "                                                                  'conv2d_12[0][0]']              \n",
      "                                                                                                  \n",
      " conv2d_13 (Conv2D)             (None, 60, 60, 16)   4624        ['concatenate_3[0][0]']          \n",
      "                                                                                                  \n",
      " up_sampling2d_2 (UpSampling2D)  (None, 120, 120, 16  0          ['conv2d_13[0][0]']              \n",
      "                                )                                                                 \n",
      "                                                                                                  \n",
      " conv2d_transpose_5 (Conv2DTran  (None, 120, 120, 32  4640       ['up_sampling2d_2[0][0]']        \n",
      " spose)                         )                                                                 \n",
      "                                                                                                  \n",
      " conv2d_11 (Conv2D)             (None, 120, 120, 32  320         ['max_pooling2d_4[0][0]']        \n",
      "                                )                                                                 \n",
      "                                                                                                  \n",
      " concatenate_4 (Concatenate)    (None, 120, 120, 64  0           ['conv2d_transpose_5[0][0]',     \n",
      "                                )                                 'conv2d_11[0][0]']              \n",
      "                                                                                                  \n",
      " conv2d_14 (Conv2D)             (None, 120, 120, 32  18464       ['concatenate_4[0][0]']          \n",
      "                                )                                                                 \n",
      "                                                                                                  \n",
      " up_sampling2d_3 (UpSampling2D)  (None, 240, 240, 32  0          ['conv2d_14[0][0]']              \n",
      "                                )                                                                 \n",
      "                                                                                                  \n",
      " conv2d_transpose_6 (Conv2DTran  (None, 240, 240, 64  18496      ['up_sampling2d_3[0][0]']        \n",
      " spose)                         )                                                                 \n",
      "                                                                                                  \n",
      " conv2d_10 (Conv2D)             (None, 240, 240, 64  640         ['batch_normalization_2[0][0]']  \n",
      "                                )                                                                 \n",
      "                                                                                                  \n",
      " concatenate_5 (Concatenate)    (None, 240, 240, 12  0           ['conv2d_transpose_6[0][0]',     \n",
      "                                8)                                'conv2d_10[0][0]']              \n",
      "                                                                                                  \n",
      " conv2d_16 (Conv2D)             (None, 240, 240, 4)  4612        ['concatenate_5[0][0]']          \n",
      "                                                                                                  \n",
      "==================================================================================================\n",
      "Total params: 1,965,096\n",
      "Trainable params: 1,965,094\n",
      "Non-trainable params: 2\n",
      "__________________________________________________________________________________________________\n"
     ]
    }
   ],
   "source": [
    "model.summary()"
   ]
  },
  {
   "cell_type": "code",
   "execution_count": 31,
   "metadata": {
    "id": "Sx83sEmYhkIf"
   },
   "outputs": [],
   "source": [
    "##Create datasets for the image data\n",
    "imgs = []\n",
    "hold_imgs = []\n",
    "segs = []\n",
    "hold_segs = []"
   ]
  },
  {
   "cell_type": "code",
   "execution_count": 29,
   "metadata": {
    "id": "zZ_dRdnniwsb"
   },
   "outputs": [],
   "source": [
    "import random\n",
    "import os"
   ]
  },
  {
   "cell_type": "code",
   "execution_count": 32,
   "metadata": {
    "colab": {
     "base_uri": "https://localhost:8080/"
    },
    "id": "DA7zqwYWiuMo",
    "outputId": "0ca60878-14ed-4565-b5b2-9cf033a12fb0"
   },
   "outputs": [
    {
     "name": "stdout",
     "output_type": "stream",
     "text": [
      "(240, 240, 155)\n",
      "(240, 240, 155)\n",
      "(240, 240, 155)\n",
      "(240, 240, 155)\n",
      "(240, 240, 155)\n",
      "(240, 240, 155)\n",
      "(240, 240, 155)\n",
      "(240, 240, 155)\n",
      "(240, 240, 155)\n",
      "(240, 240, 155)\n",
      "(240, 240, 155)\n",
      "(240, 240, 155)\n",
      "(240, 240, 155)\n",
      "(240, 240, 155)\n",
      "(240, 240, 155)\n",
      "(240, 240, 155)\n",
      "(240, 240, 155)\n",
      "(240, 240, 155)\n",
      "(240, 240, 155)\n",
      "(240, 240, 155)\n",
      "(240, 240, 155)\n",
      "(240, 240, 155)\n",
      "(240, 240, 155)\n",
      "(240, 240, 155)\n",
      "(240, 240, 155)\n",
      "(240, 240, 155)\n",
      "(240, 240, 155)\n",
      "(240, 240, 155)\n",
      "(240, 240, 155)\n",
      "(240, 240, 155)\n",
      "(240, 240, 155)\n",
      "(240, 240, 155)\n",
      "(240, 240, 155)\n",
      "(240, 240, 155)\n",
      "(240, 240, 155)\n",
      "(240, 240, 155)\n",
      "(240, 240, 155)\n",
      "(240, 240, 155)\n",
      "(240, 240, 155)\n",
      "(240, 240, 155)\n",
      "(240, 240, 155)\n",
      "(240, 240, 155)\n",
      "(240, 240, 155)\n",
      "(240, 240, 155)\n",
      "(240, 240, 155)\n",
      "(240, 240, 155)\n",
      "(240, 240, 155)\n",
      "(240, 240, 155)\n",
      "(240, 240, 155)\n",
      "(240, 240, 155)\n",
      "(240, 240, 155)\n",
      "(240, 240, 155)\n",
      "(240, 240, 155)\n",
      "(240, 240, 155)\n",
      "(240, 240, 155)\n",
      "(240, 240, 155)\n",
      "(240, 240, 155)\n",
      "(240, 240, 155)\n",
      "(240, 240, 155)\n",
      "(240, 240, 155)\n",
      "(240, 240, 155)\n",
      "(240, 240, 155)\n",
      "(240, 240, 155)\n",
      "(240, 240, 155)\n",
      "(240, 240, 155)\n",
      "(240, 240, 155)\n",
      "(240, 240, 155)\n",
      "(240, 240, 155)\n",
      "(240, 240, 155)\n",
      "(240, 240, 155)\n",
      "(240, 240, 155)\n",
      "(240, 240, 155)\n",
      "(240, 240, 155)\n",
      "(240, 240, 155)\n",
      "(240, 240, 155)\n",
      "(240, 240, 155)\n",
      "(240, 240, 155)\n",
      "(240, 240, 155)\n",
      "(240, 240, 155)\n",
      "(240, 240, 155)\n"
     ]
    }
   ],
   "source": [
    "#Load in data for 40 MRIs (wasn't able to load in more due to RAM capacity), randomly assign 20% of them to the holdout set\n",
    "j = 0\n",
    "for i in os.listdir(os.path.join(file_dir)):\n",
    "    j=j+1\n",
    "    if(j>40):\n",
    "        break\n",
    "    r = random.random()\n",
    "    if r<=0.8:\n",
    "\n",
    "        load_data(imgs,file_dir + str(i)+ '/'+str(i)+'_flair.nii.gz')\n",
    "        load_data(segs, file_dir +  str(i)+ '/'+str(i)+'_seg.nii.gz')\n",
    "    else:\n",
    "        load_data(hold_imgs, file_dir +  str(i)+ '/'+str(i)+'_flair.nii.gz')\n",
    "        load_data(hold_segs, file_dir + str(i)+ '/'+str(i)+'_seg.nii.gz')"
   ]
  },
  {
   "cell_type": "code",
   "execution_count": 33,
   "metadata": {
    "id": "1Z1crEm-Mvnj"
   },
   "outputs": [],
   "source": [
    "##Turn into numpy array\n",
    "hold_imgs = np.array(hold_imgs)\n",
    "hold_segs = np.array(hold_segs)\n",
    "imgs = np.array(imgs)\n",
    "segs = np.array(segs)"
   ]
  },
  {
   "cell_type": "code",
   "execution_count": 37,
   "metadata": {
    "id": "rF2002GfZRmC"
   },
   "outputs": [],
   "source": [
    "##Clean up data sets and delete images without a mask\n",
    "f = []\n",
    "for i in range(segs.shape[0]):\n",
    "  \n",
    "  if segs[i].max() == 0:\n",
    "    f.append(i)\n",
    "segs = np.delete(segs, f, 0)\n",
    "imgs = np.delete(imgs, f, 0)"
   ]
  },
  {
   "cell_type": "code",
   "execution_count": 41,
   "metadata": {},
   "outputs": [],
   "source": [
    "l = []\n",
    "for i in range(hold_segs.shape[0]):\n",
    "  \n",
    "  if hold_segs[i].max() == 0:\n",
    "    l.append(i)\n",
    "hold_segs = np.delete(hold_segs, l, 0)\n",
    "hold_imgs = np.delete(hold_imgs, l, 0)"
   ]
  },
  {
   "cell_type": "code",
   "execution_count": 47,
   "metadata": {
    "id": "FkfYDedtz8Hi"
   },
   "outputs": [],
   "source": [
    "##Since the original classifications are 0,1,2,4 we are changing 4 to 3 in the masks so the classification values are all consecutive numbers\n",
    "def myfunc(x):\n",
    "    if x==4:\n",
    "        return 3\n",
    "    else:\n",
    "        return x\n",
    "\n",
    "\n",
    "  "
   ]
  },
  {
   "cell_type": "code",
   "execution_count": 48,
   "metadata": {
    "id": "cOSXiOr9z8Hi"
   },
   "outputs": [],
   "source": [
    "segs = np.vectorize(myfunc)(segs)"
   ]
  },
  {
   "cell_type": "code",
   "execution_count": 49,
   "metadata": {
    "id": "wGVUeeXKz8Hj"
   },
   "outputs": [],
   "source": [
    "hold_segs = np.vectorize(myfunc)(hold_segs)"
   ]
  },
  {
   "cell_type": "code",
   "execution_count": null,
   "metadata": {},
   "outputs": [],
   "source": [
    "##Make data categorical to shape (None, 240, 240, 4)\n",
    "from tensorflow.keras.utils import to_categorical\n",
    "segs_cat = to_categorical(segs, num_classes=4)\n"
   ]
  },
  {
   "cell_type": "code",
   "execution_count": 51,
   "metadata": {
    "id": "FqZnIOEGz8Hk"
   },
   "outputs": [],
   "source": [
    "from tensorflow.keras.utils import to_categorical\n",
    "hold_cat = to_categorical(hold_segs, num_classes=4)\n"
   ]
  },
  {
   "cell_type": "code",
   "execution_count": 52,
   "metadata": {
    "colab": {
     "base_uri": "https://localhost:8080/",
     "height": 1000
    },
    "id": "cQWStAu_eHF1",
    "outputId": "7901cd83-cb8a-4b53-ef9b-c25b1da67eca"
   },
   "outputs": [
    {
     "name": "stdout",
     "output_type": "stream",
     "text": [
      "Epoch 1/75\n",
      "41/41 [==============================] - 17s 215ms/step - loss: 1.2799 - val_loss: 1.1926\n",
      "Epoch 2/75\n",
      "41/41 [==============================] - 6s 140ms/step - loss: 1.1215 - val_loss: 0.9130\n",
      "Epoch 3/75\n",
      "41/41 [==============================] - 6s 141ms/step - loss: 0.6292 - val_loss: 0.2713\n",
      "Epoch 4/75\n",
      "41/41 [==============================] - 6s 141ms/step - loss: 0.1948 - val_loss: 0.1912\n",
      "Epoch 5/75\n",
      "41/41 [==============================] - 6s 141ms/step - loss: 0.1508 - val_loss: 0.1689\n",
      "Epoch 6/75\n",
      "41/41 [==============================] - 6s 141ms/step - loss: 0.1351 - val_loss: 0.1561\n",
      "Epoch 7/75\n",
      "41/41 [==============================] - 6s 141ms/step - loss: 0.1250 - val_loss: 0.1479\n",
      "Epoch 8/75\n",
      "41/41 [==============================] - 6s 141ms/step - loss: 0.1168 - val_loss: 0.1409\n",
      "Epoch 9/75\n",
      "41/41 [==============================] - 6s 141ms/step - loss: 0.1104 - val_loss: 0.1353\n",
      "Epoch 10/75\n",
      "41/41 [==============================] - 6s 142ms/step - loss: 0.1045 - val_loss: 0.1297\n",
      "Epoch 11/75\n",
      "41/41 [==============================] - 6s 142ms/step - loss: 0.0992 - val_loss: 0.1246\n",
      "Epoch 12/75\n",
      "41/41 [==============================] - 6s 142ms/step - loss: 0.0938 - val_loss: 0.1196\n",
      "Epoch 13/75\n",
      "41/41 [==============================] - 6s 141ms/step - loss: 0.0887 - val_loss: 0.1151\n",
      "Epoch 14/75\n",
      "41/41 [==============================] - 6s 142ms/step - loss: 0.0843 - val_loss: 0.1107\n",
      "Epoch 15/75\n",
      "41/41 [==============================] - 6s 142ms/step - loss: 0.0797 - val_loss: 0.1077\n",
      "Epoch 16/75\n",
      "41/41 [==============================] - 6s 142ms/step - loss: 0.0759 - val_loss: 0.1052\n",
      "Epoch 17/75\n",
      "41/41 [==============================] - 6s 142ms/step - loss: 0.0720 - val_loss: 0.1017\n",
      "Epoch 18/75\n",
      "41/41 [==============================] - 6s 142ms/step - loss: 0.0688 - val_loss: 0.0991\n",
      "Epoch 19/75\n",
      "41/41 [==============================] - 6s 142ms/step - loss: 0.0655 - val_loss: 0.0993\n",
      "Epoch 20/75\n",
      "41/41 [==============================] - 6s 142ms/step - loss: 0.0631 - val_loss: 0.0977\n",
      "Epoch 21/75\n",
      "41/41 [==============================] - 6s 142ms/step - loss: 0.0608 - val_loss: 0.1000\n",
      "Epoch 22/75\n",
      "41/41 [==============================] - 6s 142ms/step - loss: 0.0588 - val_loss: 0.0957\n",
      "Epoch 23/75\n",
      "41/41 [==============================] - 6s 142ms/step - loss: 0.0567 - val_loss: 0.0984\n",
      "Epoch 24/75\n",
      "41/41 [==============================] - 6s 143ms/step - loss: 0.0550 - val_loss: 0.0911\n",
      "Epoch 25/75\n",
      "41/41 [==============================] - 6s 143ms/step - loss: 0.0534 - val_loss: 0.0909\n",
      "Epoch 26/75\n",
      "41/41 [==============================] - 6s 143ms/step - loss: 0.0517 - val_loss: 0.0961\n",
      "Epoch 27/75\n",
      "41/41 [==============================] - 6s 143ms/step - loss: 0.0506 - val_loss: 0.0934\n",
      "Epoch 28/75\n",
      "41/41 [==============================] - 6s 143ms/step - loss: 0.0491 - val_loss: 0.0887\n",
      "Epoch 29/75\n",
      "41/41 [==============================] - 6s 143ms/step - loss: 0.0482 - val_loss: 0.0863\n",
      "Epoch 30/75\n",
      "41/41 [==============================] - 6s 143ms/step - loss: 0.0472 - val_loss: 0.0948\n",
      "Epoch 31/75\n",
      "41/41 [==============================] - 6s 143ms/step - loss: 0.0458 - val_loss: 0.0878\n",
      "Epoch 32/75\n",
      "41/41 [==============================] - 6s 143ms/step - loss: 0.0447 - val_loss: 0.0893\n",
      "Epoch 33/75\n",
      "41/41 [==============================] - 6s 143ms/step - loss: 0.0442 - val_loss: 0.0834\n",
      "Epoch 34/75\n",
      "41/41 [==============================] - 6s 143ms/step - loss: 0.0431 - val_loss: 0.0820\n",
      "Epoch 35/75\n",
      "41/41 [==============================] - 6s 143ms/step - loss: 0.0419 - val_loss: 0.0886\n",
      "Epoch 36/75\n",
      "41/41 [==============================] - 6s 143ms/step - loss: 0.0415 - val_loss: 0.0825\n",
      "Epoch 37/75\n",
      "41/41 [==============================] - 6s 143ms/step - loss: 0.0408 - val_loss: 0.0884\n",
      "Epoch 38/75\n",
      "41/41 [==============================] - 6s 144ms/step - loss: 0.0404 - val_loss: 0.0828\n",
      "Epoch 39/75\n",
      "41/41 [==============================] - 6s 143ms/step - loss: 0.0396 - val_loss: 0.0816\n",
      "Epoch 40/75\n",
      "41/41 [==============================] - 6s 144ms/step - loss: 0.0391 - val_loss: 0.0808\n",
      "Epoch 41/75\n",
      "41/41 [==============================] - 6s 144ms/step - loss: 0.0388 - val_loss: 0.0803\n",
      "Epoch 42/75\n",
      "41/41 [==============================] - 6s 144ms/step - loss: 0.0377 - val_loss: 0.0813\n",
      "Epoch 43/75\n",
      "41/41 [==============================] - 6s 144ms/step - loss: 0.0371 - val_loss: 0.0815\n",
      "Epoch 44/75\n",
      "41/41 [==============================] - 6s 144ms/step - loss: 0.0370 - val_loss: 0.0809\n",
      "Epoch 45/75\n",
      "41/41 [==============================] - 6s 144ms/step - loss: 0.0365 - val_loss: 0.0846\n",
      "Epoch 46/75\n",
      "41/41 [==============================] - 6s 144ms/step - loss: 0.0362 - val_loss: 0.0810\n",
      "Epoch 47/75\n",
      "41/41 [==============================] - 6s 144ms/step - loss: 0.0357 - val_loss: 0.0829\n",
      "Epoch 48/75\n",
      "41/41 [==============================] - 6s 144ms/step - loss: 0.0353 - val_loss: 0.0816\n",
      "Epoch 49/75\n",
      "41/41 [==============================] - 6s 144ms/step - loss: 0.0349 - val_loss: 0.0826\n",
      "Epoch 50/75\n",
      "41/41 [==============================] - 6s 144ms/step - loss: 0.0345 - val_loss: 0.0823\n",
      "Epoch 51/75\n",
      "41/41 [==============================] - 6s 144ms/step - loss: 0.0341 - val_loss: 0.0831\n",
      "Epoch 52/75\n",
      "41/41 [==============================] - 6s 143ms/step - loss: 0.0339 - val_loss: 0.0828\n",
      "Epoch 53/75\n",
      "41/41 [==============================] - 6s 144ms/step - loss: 0.0335 - val_loss: 0.0825\n",
      "Epoch 54/75\n",
      "41/41 [==============================] - 6s 144ms/step - loss: 0.0333 - val_loss: 0.0863\n",
      "Epoch 55/75\n",
      "41/41 [==============================] - 6s 144ms/step - loss: 0.0328 - val_loss: 0.0859\n",
      "Epoch 56/75\n",
      "41/41 [==============================] - 6s 144ms/step - loss: 0.0325 - val_loss: 0.0850\n",
      "Epoch 57/75\n",
      "41/41 [==============================] - 6s 144ms/step - loss: 0.0325 - val_loss: 0.0867\n",
      "Epoch 58/75\n",
      "41/41 [==============================] - 6s 144ms/step - loss: 0.0320 - val_loss: 0.0870\n",
      "Epoch 59/75\n",
      "41/41 [==============================] - 6s 144ms/step - loss: 0.0314 - val_loss: 0.0884\n",
      "Epoch 60/75\n",
      "41/41 [==============================] - 6s 144ms/step - loss: 0.0314 - val_loss: 0.0880\n",
      "Epoch 61/75\n",
      "41/41 [==============================] - 6s 144ms/step - loss: 0.0314 - val_loss: 0.0890\n",
      "Epoch 62/75\n",
      "41/41 [==============================] - 6s 144ms/step - loss: 0.0311 - val_loss: 0.0894\n",
      "Epoch 63/75\n",
      "41/41 [==============================] - 6s 144ms/step - loss: 0.0305 - val_loss: 0.0907\n",
      "Epoch 64/75\n",
      "41/41 [==============================] - 6s 144ms/step - loss: 0.0305 - val_loss: 0.0910\n",
      "Epoch 65/75\n",
      "41/41 [==============================] - 6s 144ms/step - loss: 0.0302 - val_loss: 0.0932\n",
      "Epoch 66/75\n",
      "41/41 [==============================] - 6s 144ms/step - loss: 0.0300 - val_loss: 0.0925\n",
      "Epoch 67/75\n",
      "41/41 [==============================] - 6s 144ms/step - loss: 0.0298 - val_loss: 0.0943\n",
      "Epoch 68/75\n",
      "41/41 [==============================] - 6s 144ms/step - loss: 0.0295 - val_loss: 0.0949\n",
      "Epoch 69/75\n",
      "41/41 [==============================] - 6s 144ms/step - loss: 0.0292 - val_loss: 0.0949\n",
      "Epoch 70/75\n",
      "41/41 [==============================] - 6s 144ms/step - loss: 0.0292 - val_loss: 0.0958\n",
      "Epoch 71/75\n",
      "41/41 [==============================] - 6s 144ms/step - loss: 0.0287 - val_loss: 0.0955\n",
      "Epoch 72/75\n",
      "41/41 [==============================] - 6s 144ms/step - loss: 0.0287 - val_loss: 0.0971\n",
      "Epoch 73/75\n",
      "41/41 [==============================] - 6s 143ms/step - loss: 0.0288 - val_loss: 0.0973\n",
      "Epoch 74/75\n",
      "41/41 [==============================] - 6s 142ms/step - loss: 0.0284 - val_loss: 0.0983\n",
      "Epoch 75/75\n",
      "41/41 [==============================] - 6s 142ms/step - loss: 0.0281 - val_loss: 0.0998\n"
     ]
    }
   ],
   "source": [
    "##Train the model\n",
    "model.compile(optimizer = opt, loss = 'categorical_crossentropy')\n",
    "history = model.fit(x = imgs, y = segs_cat, batch_size = 16, epochs=75, validation_split = 0.3)"
   ]
  },
  {
   "cell_type": "code",
   "execution_count": 53,
   "metadata": {},
   "outputs": [
    {
     "data": {
      "image/png": "[encoded data removed]",
      "text/plain": [
       "<Figure size 432x288 with 1 Axes>"
      ]
     },
     "metadata": {
      "needs_background": "light"
     },
     "output_type": "display_data"
    }
   ],
   "source": [
    "##Plot the training and validation loss at each epoch\n",
    "loss = history.history['loss']\n",
    "val_loss = history.history['val_loss']\n",
    "epochs = range(1, len(loss) + 1)\n",
    "plt.plot(epochs, loss, 'y', label='Training loss')\n",
    "plt.plot(epochs, val_loss, 'r', label='Validation loss')\n",
    "plt.title('Training and validation loss')\n",
    "plt.xlabel('Epochs')\n",
    "plt.ylabel('Loss')\n",
    "plt.legend()\n",
    "plt.show()"
   ]
  },
  {
   "cell_type": "code",
   "execution_count": 54,
   "metadata": {
    "id": "o9rnMDkbeXRv"
   },
   "outputs": [],
   "source": [
    "hold_imgs = np.array(hold_imgs)"
   ]
  },
  {
   "cell_type": "code",
   "execution_count": 57,
   "metadata": {
    "colab": {
     "base_uri": "https://localhost:8080/"
    },
    "id": "o4WUJC7YeUXA",
    "outputId": "ee4557f5-16f4-4dfb-9976-6e8d76f8d1d6"
   },
   "outputs": [
    {
     "name": "stdout",
     "output_type": "stream",
     "text": [
      "12/12 [==============================] - 2s 195ms/step\n"
     ]
    }
   ],
   "source": [
    "##Predict masks on holdout images\n",
    "predicted = model.predict(hold_imgs)"
   ]
  },
  {
   "cell_type": "code",
   "execution_count": 38,
   "metadata": {
    "id": "MOY77yynOXVQ"
   },
   "outputs": [],
   "source": [
    "hold_segs = np.array(hold_segs)"
   ]
  },
  {
   "cell_type": "code",
   "execution_count": 72,
   "metadata": {
    "colab": {
     "base_uri": "https://localhost:8080/"
    },
    "id": "SwGfrr9CXkZi",
    "outputId": "4d383cba-6500-4619-f5f7-df4c802921b5"
   },
   "outputs": [
    {
     "name": "stdout",
     "output_type": "stream",
     "text": [
      "12/12 [==============================] - 1s 91ms/step - loss: 0.0758\n"
     ]
    },
    {
     "data": {
      "text/plain": [
       "0.07578527182340622"
      ]
     },
     "execution_count": 72,
     "metadata": {},
     "output_type": "execute_result"
    }
   ],
   "source": [
    "##Evaluate model results on holdout images. Loss of 0.076 is very good\n",
    "model.evaluate(hold_imgs, hold_cat)"
   ]
  },
  {
   "cell_type": "code",
   "execution_count": 60,
   "metadata": {
    "colab": {
     "base_uri": "https://localhost:8080/"
    },
    "id": "omqB_t8SeaDV",
    "outputId": "63fdbb7e-050b-4e2c-f151-f14c8173482a"
   },
   "outputs": [
    {
     "data": {
      "text/plain": [
       "(383, 240, 240)"
      ]
     },
     "execution_count": 60,
     "metadata": {},
     "output_type": "execute_result"
    }
   ],
   "source": [
    "##Make predictions suitable to plot\n",
    "y_pred_argmax=np.argmax(predicted, axis=3)\n",
    "y_pred_argmax.shape"
   ]
  },
  {
   "cell_type": "code",
   "execution_count": 81,
   "metadata": {
    "colab": {
     "base_uri": "https://localhost:8080/",
     "height": 287
    },
    "id": "_a9YdJRN6YC-",
    "outputId": "8603806f-368c-41ed-d866-687dc4d4e58d"
   },
   "outputs": [
    {
     "data": {
      "text/plain": [
       "<matplotlib.image.AxesImage at 0x7f6a3c0e1160>"
      ]
     },
     "execution_count": 81,
     "metadata": {},
     "output_type": "execute_result"
    },
    {
     "data": {
      "image/png": "[encoded data removed]",
      "text/plain": [
       "<Figure size 432x288 with 1 Axes>"
      ]
     },
     "metadata": {
      "needs_background": "light"
     },
     "output_type": "display_data"
    }
   ],
   "source": [
    "##Example of predicted mask and corresponding truth mask\n",
    "plt.imshow(y_pred_argmax[10])"
   ]
  },
  {
   "cell_type": "code",
   "execution_count": 82,
   "metadata": {
    "colab": {
     "base_uri": "https://localhost:8080/",
     "height": 287
    },
    "id": "B1jvn1U_z8Ho",
    "outputId": "7d2418f9-1ad1-4092-90a1-f9d3c1a079b1"
   },
   "outputs": [
    {
     "data": {
      "text/plain": [
       "<matplotlib.image.AxesImage at 0x7f6a3c031a00>"
      ]
     },
     "execution_count": 82,
     "metadata": {},
     "output_type": "execute_result"
    },
    {
     "data": {
      "image/png": "[encoded data removed]",
      "text/plain": [
       "<Figure size 432x288 with 1 Axes>"
      ]
     },
     "metadata": {
      "needs_background": "light"
     },
     "output_type": "display_data"
    }
   ],
   "source": [
    "plt.imshow(hold_segs[10])"
   ]
  }
 ],
 "metadata": {
  "accelerator": "GPU",
  "colab": {
   "provenance": []
  },
  "gpuClass": "standard",
  "kernelspec": {
   "display_name": "default:Python",
   "language": "python",
   "name": "conda-env-default-py"
  },
  "language_info": {
   "codemirror_mode": {
    "name": "ipython",
    "version": 3
   },
   "file_extension": ".py",
   "mimetype": "text/x-python",
   "name": "python",
   "nbconvert_exporter": "python",
   "pygments_lexer": "ipython3",
   "version": "3.9.13"
  }
 },
 "nbformat": 4,
 "nbformat_minor": 4
}
