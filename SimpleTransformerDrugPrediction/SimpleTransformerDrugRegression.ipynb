{
  "cells": [
    {
      "cell_type": "code",
      "execution_count": 1,
      "metadata": {
        "colab": {
          "base_uri": "https://localhost:8080/"
        },
        "id": "kWg2GghiKKsh",
        "outputId": "87387f8c-2875-4eff-9b2c-b263fd97d48a"
      },
      "outputs": [
        {
          "output_type": "stream",
          "name": "stdout",
          "text": [
            "/bin/bash: -c: line 1: syntax error: unexpected end of file\n"
          ]
        }
      ],
      "source": [
        "!pip -q install rdkit-pypi==2021.9.4|"
      ]
    },
    {
      "cell_type": "code",
      "source": [],
      "metadata": {
        "id": "70mnDIfnxydj"
      },
      "execution_count": null,
      "outputs": []
    },
    {
      "cell_type": "code",
      "execution_count": 3,
      "metadata": {
        "id": "6ypQQzNaJTEg"
      },
      "outputs": [],
      "source": [
        "import ast\n",
        "\n",
        "import pandas as pd\n",
        "import numpy as np\n",
        "from keras import backend as K\n",
        "import tensorflow as tf\n",
        "from tensorflow import keras\n",
        "from tensorflow.keras import layers\n",
        "\n",
        "import matplotlib.pyplot as plt\n",
        "from rdkit import Chem, RDLogger\n",
        "from rdkit.Chem import BondType\n",
        "from rdkit.Chem.Draw import MolsToGridImage\n",
        "\n",
        "RDLogger.DisableLog(\"rdApp.*\")"
      ]
    },
    {
      "cell_type": "code",
      "execution_count": 4,
      "metadata": {
        "colab": {
          "base_uri": "https://localhost:8080/",
          "height": 242
        },
        "id": "MpJ0qg4PKCiH",
        "outputId": "391211da-6c45-4793-a0aa-27b8bb7a9a84"
      },
      "outputs": [
        {
          "output_type": "stream",
          "name": "stdout",
          "text": [
            "Downloading data from https://raw.githubusercontent.com/aspuru-guzik-group/chemical_vae/master/models/zinc_properties/250k_rndm_zinc_drugs_clean_3.csv\n",
            "22606589/22606589 [==============================] - 0s 0us/step\n"
          ]
        },
        {
          "output_type": "execute_result",
          "data": {
            "text/plain": [
              "                                              smiles     logP       qed  \\\n",
              "0            CC(C)(C)c1ccc2occ(CC(=O)Nc3ccccc3F)c2c1  5.05060  0.702012   \n",
              "1       C[C@@H]1CC(Nc2cncc(-c3nncn3C)c2)C[C@@H](C)C1  3.11370  0.928975   \n",
              "2  N#Cc1ccc(-c2ccc(O[C@@H](C(=O)N3CCCC3)c3ccccc3)...  4.96778  0.599682   \n",
              "3  CCOC(=O)[C@@H]1CCCN(C(=O)c2nc(-c3ccc(C)cc3)n3c...  4.00022  0.690944   \n",
              "4  N#CC1=C(SCC(=O)Nc2cccc(Cl)c2)N=C([O-])[C@H](C#...  3.60956  0.789027   \n",
              "\n",
              "        SAS  \n",
              "0  2.084095  \n",
              "1  3.432004  \n",
              "2  2.470633  \n",
              "3  2.822753  \n",
              "4  4.035182  "
            ],
            "text/html": [
              "\n",
              "  <div id=\"df-1e49d080-8915-4d92-9b41-53cc60c48ceb\">\n",
              "    <div class=\"colab-df-container\">\n",
              "      <div>\n",
              "<style scoped>\n",
              "    .dataframe tbody tr th:only-of-type {\n",
              "        vertical-align: middle;\n",
              "    }\n",
              "\n",
              "    .dataframe tbody tr th {\n",
              "        vertical-align: top;\n",
              "    }\n",
              "\n",
              "    .dataframe thead th {\n",
              "        text-align: right;\n",
              "    }\n",
              "</style>\n",
              "<table border=\"1\" class=\"dataframe\">\n",
              "  <thead>\n",
              "    <tr style=\"text-align: right;\">\n",
              "      <th></th>\n",
              "      <th>smiles</th>\n",
              "      <th>logP</th>\n",
              "      <th>qed</th>\n",
              "      <th>SAS</th>\n",
              "    </tr>\n",
              "  </thead>\n",
              "  <tbody>\n",
              "    <tr>\n",
              "      <th>0</th>\n",
              "      <td>CC(C)(C)c1ccc2occ(CC(=O)Nc3ccccc3F)c2c1</td>\n",
              "      <td>5.05060</td>\n",
              "      <td>0.702012</td>\n",
              "      <td>2.084095</td>\n",
              "    </tr>\n",
              "    <tr>\n",
              "      <th>1</th>\n",
              "      <td>C[C@@H]1CC(Nc2cncc(-c3nncn3C)c2)C[C@@H](C)C1</td>\n",
              "      <td>3.11370</td>\n",
              "      <td>0.928975</td>\n",
              "      <td>3.432004</td>\n",
              "    </tr>\n",
              "    <tr>\n",
              "      <th>2</th>\n",
              "      <td>N#Cc1ccc(-c2ccc(O[C@@H](C(=O)N3CCCC3)c3ccccc3)...</td>\n",
              "      <td>4.96778</td>\n",
              "      <td>0.599682</td>\n",
              "      <td>2.470633</td>\n",
              "    </tr>\n",
              "    <tr>\n",
              "      <th>3</th>\n",
              "      <td>CCOC(=O)[C@@H]1CCCN(C(=O)c2nc(-c3ccc(C)cc3)n3c...</td>\n",
              "      <td>4.00022</td>\n",
              "      <td>0.690944</td>\n",
              "      <td>2.822753</td>\n",
              "    </tr>\n",
              "    <tr>\n",
              "      <th>4</th>\n",
              "      <td>N#CC1=C(SCC(=O)Nc2cccc(Cl)c2)N=C([O-])[C@H](C#...</td>\n",
              "      <td>3.60956</td>\n",
              "      <td>0.789027</td>\n",
              "      <td>4.035182</td>\n",
              "    </tr>\n",
              "  </tbody>\n",
              "</table>\n",
              "</div>\n",
              "      <button class=\"colab-df-convert\" onclick=\"convertToInteractive('df-1e49d080-8915-4d92-9b41-53cc60c48ceb')\"\n",
              "              title=\"Convert this dataframe to an interactive table.\"\n",
              "              style=\"display:none;\">\n",
              "        \n",
              "  <svg xmlns=\"http://www.w3.org/2000/svg\" height=\"24px\"viewBox=\"0 0 24 24\"\n",
              "       width=\"24px\">\n",
              "    <path d=\"M0 0h24v24H0V0z\" fill=\"none\"/>\n",
              "    <path d=\"M18.56 5.44l.94 2.06.94-2.06 2.06-.94-2.06-.94-.94-2.06-.94 2.06-2.06.94zm-11 1L8.5 8.5l.94-2.06 2.06-.94-2.06-.94L8.5 2.5l-.94 2.06-2.06.94zm10 10l.94 2.06.94-2.06 2.06-.94-2.06-.94-.94-2.06-.94 2.06-2.06.94z\"/><path d=\"M17.41 7.96l-1.37-1.37c-.4-.4-.92-.59-1.43-.59-.52 0-1.04.2-1.43.59L10.3 9.45l-7.72 7.72c-.78.78-.78 2.05 0 2.83L4 21.41c.39.39.9.59 1.41.59.51 0 1.02-.2 1.41-.59l7.78-7.78 2.81-2.81c.8-.78.8-2.07 0-2.86zM5.41 20L4 18.59l7.72-7.72 1.47 1.35L5.41 20z\"/>\n",
              "  </svg>\n",
              "      </button>\n",
              "      \n",
              "  <style>\n",
              "    .colab-df-container {\n",
              "      display:flex;\n",
              "      flex-wrap:wrap;\n",
              "      gap: 12px;\n",
              "    }\n",
              "\n",
              "    .colab-df-convert {\n",
              "      background-color: #E8F0FE;\n",
              "      border: none;\n",
              "      border-radius: 50%;\n",
              "      cursor: pointer;\n",
              "      display: none;\n",
              "      fill: #1967D2;\n",
              "      height: 32px;\n",
              "      padding: 0 0 0 0;\n",
              "      width: 32px;\n",
              "    }\n",
              "\n",
              "    .colab-df-convert:hover {\n",
              "      background-color: #E2EBFA;\n",
              "      box-shadow: 0px 1px 2px rgba(60, 64, 67, 0.3), 0px 1px 3px 1px rgba(60, 64, 67, 0.15);\n",
              "      fill: #174EA6;\n",
              "    }\n",
              "\n",
              "    [theme=dark] .colab-df-convert {\n",
              "      background-color: #3B4455;\n",
              "      fill: #D2E3FC;\n",
              "    }\n",
              "\n",
              "    [theme=dark] .colab-df-convert:hover {\n",
              "      background-color: #434B5C;\n",
              "      box-shadow: 0px 1px 3px 1px rgba(0, 0, 0, 0.15);\n",
              "      filter: drop-shadow(0px 1px 2px rgba(0, 0, 0, 0.3));\n",
              "      fill: #FFFFFF;\n",
              "    }\n",
              "  </style>\n",
              "\n",
              "      <script>\n",
              "        const buttonEl =\n",
              "          document.querySelector('#df-1e49d080-8915-4d92-9b41-53cc60c48ceb button.colab-df-convert');\n",
              "        buttonEl.style.display =\n",
              "          google.colab.kernel.accessAllowed ? 'block' : 'none';\n",
              "\n",
              "        async function convertToInteractive(key) {\n",
              "          const element = document.querySelector('#df-1e49d080-8915-4d92-9b41-53cc60c48ceb');\n",
              "          const dataTable =\n",
              "            await google.colab.kernel.invokeFunction('convertToInteractive',\n",
              "                                                     [key], {});\n",
              "          if (!dataTable) return;\n",
              "\n",
              "          const docLinkHtml = 'Like what you see? Visit the ' +\n",
              "            '<a target=\"_blank\" href=https://colab.research.google.com/notebooks/data_table.ipynb>data table notebook</a>'\n",
              "            + ' to learn more about interactive tables.';\n",
              "          element.innerHTML = '';\n",
              "          dataTable['output_type'] = 'display_data';\n",
              "          await google.colab.output.renderOutput(dataTable, element);\n",
              "          const docLink = document.createElement('div');\n",
              "          docLink.innerHTML = docLinkHtml;\n",
              "          element.appendChild(docLink);\n",
              "        }\n",
              "      </script>\n",
              "    </div>\n",
              "  </div>\n",
              "  "
            ]
          },
          "metadata": {},
          "execution_count": 4
        }
      ],
      "source": [
        "csv_path = keras.utils.get_file(\n",
        "    \"/content/250k_rndm_zinc_drugs_clean_3.csv\",\n",
        "    \"https://raw.githubusercontent.com/aspuru-guzik-group/chemical_vae/master/models/zinc_properties/250k_rndm_zinc_drugs_clean_3.csv\",\n",
        ")\n",
        "\n",
        "df = pd.read_csv(\"/content/250k_rndm_zinc_drugs_clean_3.csv\")\n",
        "df[\"smiles\"] = df[\"smiles\"].apply(lambda s: s.replace(\"\\n\", \"\"))\n",
        "df.head()  "
      ]
    },
    {
      "cell_type": "code",
      "execution_count": 5,
      "metadata": {
        "id": "_2vVBBu2KGyE"
      },
      "outputs": [],
      "source": [
        "smiles = df['smiles'].values\n",
        "smiles_train = smiles[:10000]\n",
        "smiles_val = smiles[10000:13000]\n",
        "sol = df['logP'].values\n",
        "sol_train = sol[:10000]\n",
        "sol_val = sol[10000:13000]"
      ]
    },
    {
      "cell_type": "code",
      "execution_count": 6,
      "metadata": {
        "id": "oR24SWX6K9Ez"
      },
      "outputs": [],
      "source": [
        "import tensorflow as tf\n",
        "from tensorflow import keras\n",
        "from tensorflow.keras.layers import MultiHeadAttention, LayerNormalization, Dropout, Layer\n",
        "from tensorflow.keras.layers import Embedding, Input, GlobalAveragePooling1D, Dense\n",
        "from tensorflow.keras.datasets import imdb\n",
        "from tensorflow.keras.models import Sequential, Model\n",
        "import numpy as np\n",
        "import warnings\n",
        "warnings.filterwarnings(\"ignore\", category=np.VisibleDeprecationWarning)"
      ]
    },
    {
      "cell_type": "code",
      "execution_count": 7,
      "metadata": {
        "id": "5T4mLM9xLZdu"
      },
      "outputs": [],
      "source": [
        "class TransformerBlock(Layer):\n",
        "    def __init__(self, embed_dim, num_heads, ff_dim, rate=0.1):\n",
        "        super(TransformerBlock, self).__init__()\n",
        "        self.att = MultiHeadAttention(num_heads=num_heads, key_dim=embed_dim)\n",
        "        self.ffn = Sequential(\n",
        "            [Dense(ff_dim, activation=\"relu\"), \n",
        "             Dense(embed_dim),]\n",
        "        )\n",
        "        self.layernorm1 = LayerNormalization(epsilon=1e-6)\n",
        "        self.layernorm2 = LayerNormalization(epsilon=1e-6)\n",
        "        self.dropout1 = Dropout(rate)\n",
        "        self.dropout2 = Dropout(rate)\n",
        "\n",
        "    def call(self, inputs, training):\n",
        "        attn_output = self.att(inputs, inputs)\n",
        "        attn_output = self.dropout1(attn_output, training=training)\n",
        "        out1 = self.layernorm1(inputs + attn_output)\n",
        "        ffn_output = self.ffn(out1)\n",
        "        ffn_output = self.dropout2(ffn_output, training=training)\n",
        "        return self.layernorm2(out1 + ffn_output)"
      ]
    },
    {
      "cell_type": "code",
      "execution_count": 8,
      "metadata": {
        "id": "suBj6vhmLcB5"
      },
      "outputs": [],
      "source": [
        "class TokenAndPositionEmbedding(Layer):\n",
        "    def __init__(self, maxlen, vocab_size, embed_dim):\n",
        "        super(TokenAndPositionEmbedding, self).__init__()\n",
        "        self.token_emb = Embedding(input_dim=vocab_size, output_dim=embed_dim)\n",
        "        self.pos_emb = Embedding(input_dim=maxlen, output_dim=embed_dim)\n",
        "\n",
        "    def call(self, x):\n",
        "        maxlen = tf.shape(x)[-1]\n",
        "        positions = tf.range(start=0, limit=maxlen, delta=1)\n",
        "        positions = self.pos_emb(positions)\n",
        "        x = self.token_emb(x)\n",
        "        return x + positions"
      ]
    },
    {
      "cell_type": "code",
      "execution_count": 9,
      "metadata": {
        "colab": {
          "base_uri": "https://localhost:8080/",
          "height": 35
        },
        "id": "XXIuSOHILfbC",
        "outputId": "c830b9b5-9246-4ce7-99a2-4248de4c2016"
      },
      "outputs": [
        {
          "output_type": "execute_result",
          "data": {
            "text/plain": [
              "'C[C@]12C=CC(=O)C=C1CC[C@@H]1[C@@H]2CC[C@@]2(C)[C@H]1CC[C@H]2O[C@@H]1O[C@H](C(=O)[O-])[C@@H](O)[C@H](O)[C@H]1O'"
            ],
            "application/vnd.google.colaboratory.intrinsic+json": {
              "type": "string"
            }
          },
          "metadata": {},
          "execution_count": 9
        }
      ],
      "source": [
        "max(smiles, key = len)"
      ]
    },
    {
      "cell_type": "code",
      "execution_count": 10,
      "metadata": {
        "colab": {
          "base_uri": "https://localhost:8080/"
        },
        "id": "3qrswwbYL_Og",
        "outputId": "e3930c57-ff12-4334-c418-b80b1b6d8a97"
      },
      "outputs": [
        {
          "output_type": "execute_result",
          "data": {
            "text/plain": [
              "109"
            ]
          },
          "metadata": {},
          "execution_count": 10
        }
      ],
      "source": [
        "len(\"C[C@]12C=CC(=O)C=C1CC[C@@H]1[C@@H]2CC[C@@]2(C)[C@H]1CC[C@H]2O[C@@H]1O[C@H](C(=O)[O-])[C@@H](O)[C@H](O)[C@H]1O\")"
      ]
    },
    {
      "cell_type": "code",
      "execution_count": 11,
      "metadata": {
        "id": "N0ISSftAMBw7"
      },
      "outputs": [],
      "source": [
        "vocab_size = 20000  # Only consider the top 20k words\n",
        "maxlen = 109  # Only consider the first 200 words of each movie review\n"
      ]
    },
    {
      "cell_type": "code",
      "execution_count": 12,
      "metadata": {
        "id": "8rsHiMRCMkvI"
      },
      "outputs": [],
      "source": [
        "smiles_train = np.array(smiles_train)\n",
        "smiles_val = np.array(smiles_val)"
      ]
    },
    {
      "cell_type": "code",
      "execution_count": 13,
      "metadata": {
        "id": "RJsYXnybNXnv"
      },
      "outputs": [],
      "source": [
        "def get_data(smiles):\n",
        "    \n",
        "\n",
        "    \n",
        "    chars = list(set(''.join(list(smiles))))\n",
        "    int2char = dict(enumerate(chars,1))\n",
        "    char2int = {char:ind for ind,char in int2char.items()}\n",
        "\n",
        "    maxlen = max([len(x) for x in smiles])\n",
        "\n",
        "    def tokenize(x):\n",
        "        x = list(x)\n",
        "        x = [char2int[c] for c in x] + [0]*(maxlen - len(x))\n",
        "        return(x)\n",
        "\n",
        "    X_train = np.array([tokenize(sm) for sm in smiles])\n",
        "\n",
        "    smiles_len = (X_train > 0.0).sum(axis=1)\n",
        "    max_features = len(chars) + 1 \n",
        "    \n",
        "    \n",
        "    return X_train, max_features, maxlen, tokenize "
      ]
    },
    {
      "cell_type": "code",
      "source": [
        "smiles = df['smiles'].values"
      ],
      "metadata": {
        "id": "RUbNlr4Ibw5v"
      },
      "execution_count": 14,
      "outputs": []
    },
    {
      "cell_type": "code",
      "execution_count": 15,
      "metadata": {
        "id": "xGJtg3vjNYuX"
      },
      "outputs": [],
      "source": [
        "smiles, max_feat, maxlen, tokenizer = get_data(smiles)"
      ]
    },
    {
      "cell_type": "code",
      "execution_count": 16,
      "metadata": {
        "colab": {
          "base_uri": "https://localhost:8080/"
        },
        "id": "78kj_quHOBPT",
        "outputId": "8e6758f4-731e-463c-e04d-f087ad7bc397"
      },
      "outputs": [
        {
          "output_type": "execute_result",
          "data": {
            "text/plain": [
              "array([[17, 17, 27, ...,  0,  0,  0],\n",
              "       [17, 32, 17, ...,  0,  0,  0],\n",
              "       [19, 16, 17, ...,  0,  0,  0],\n",
              "       ...,\n",
              "       [17, 25,  7, ...,  0,  0,  0],\n",
              "       [17, 25,  7, ...,  0,  0,  0],\n",
              "       [ 5, 13, 17, ...,  0,  0,  0]])"
            ]
          },
          "metadata": {},
          "execution_count": 16
        }
      ],
      "source": [
        "smiles"
      ]
    },
    {
      "cell_type": "code",
      "execution_count": 17,
      "metadata": {
        "id": "PPCbw9lnOP5m"
      },
      "outputs": [],
      "source": [
        "smiles_train = smiles[:10000]\n",
        "smiles_val = smiles[10000:13000]"
      ]
    },
    {
      "cell_type": "code",
      "execution_count": 26,
      "metadata": {
        "id": "8RX5PKpYP2le"
      },
      "outputs": [],
      "source": [
        "import keras\n",
        "from keras.models import Sequential\n",
        "from keras.layers import Dense, Activation\n",
        "from keras.layers import LSTM, Dropout, Bidirectional\n",
        "from keras.layers import Embedding\n",
        "import keras\n",
        "import pandas as pd\n",
        "from keras.callbacks import EarlyStopping\n",
        "from keras.callbacks import ModelCheckpoint\n",
        "from sklearn.metrics import mean_squared_error\n",
        "from keras.preprocessing import sequence\n",
        "from keras import backend as K\n",
        "from keras.models import load_model\n",
        "from matplotlib import pyplot as plt\n",
        "import numpy as np\n",
        "from rdkit import Chem\n",
        "from sklearn.metrics import r2_score, mean_squared_error\n",
        "from scipy.stats import spearmanr\n",
        "import json\n",
        "import os\n",
        "\n",
        "\n",
        "import datetime"
      ]
    },
    {
      "cell_type": "code",
      "execution_count": 29,
      "metadata": {
        "id": "mC9vERDbN1jP"
      },
      "outputs": [],
      "source": [
        "embed_dim = 32  # Embedding size for each token\n",
        "num_heads = 2  # Number of attention heads\n",
        "ff_dim = 32  # Hidden layer size in feed forward network inside transformer\n",
        "\n",
        "args = {'a1': 2, 'a3': 0, 'a4': 0, 'a5': 0, 'bs': 2, 'd1': 0.08607118576024131, 'd2': 0.4730059911045743, \\\n",
        "        'd3': 0.186637772607526, 'd4': 0.27122468227787655, 'd5': 0.15564916131523265, \\\n",
        "        'ed': 960.0, 'h1': 704.0, 'h3': 640.0, 'h4': 704.0, 'h5': 576.0, 'lr': 0, 'ls1': 256.0, 'nfc': 0, 'opt': 2}\n",
        "act = {0:'relu', 1:'selu', 2:'sigmoid'}\n",
        "inputs = Input(shape=(maxlen,))\n",
        "x= Embedding(max_feat, 32, input_length=maxlen)(inputs)\n",
        "\n",
        "transformer_block = TransformerBlock(embed_dim, num_heads, ff_dim)\n",
        "x = transformer_block(x)\n",
        "x= Bidirectional(LSTM( int(args['ls1']), return_sequences=True))(x)\n",
        "x= (Dropout( args['d1'] ) )(x)\n",
        "x= (Bidirectional(LSTM( int(args['ls1']) )))(x)\n",
        "x= (Dropout( args['d2'] ))(x)\n",
        "x= (Dense(int( args['h1'] )))(x)\n",
        "x= (Activation( act[args['a1']] ))(x)\n",
        "\n",
        "x= (Dense( int(args['h3']) ))(x)\n",
        "x= (Activation( act[args['a3']] ))(x)\n",
        "x= (Dropout( args['d3'] ))(x)\n",
        "\n",
        "outputs = Dense(1, activation=\"linear\")(x)\n",
        "\n",
        "\n",
        "\n",
        "model = Model(inputs=inputs, outputs=outputs)"
      ]
    },
    {
      "cell_type": "code",
      "source": [
        "class CustomSchedule(tf.keras.optimizers.schedules.LearningRateSchedule):\n",
        "  def __init__(self, d_model, warmup_steps=4000):\n",
        "    super().__init__()\n",
        "\n",
        "    self.d_model = d_model\n",
        "    self.d_model = tf.cast(self.d_model, tf.float32)\n",
        "\n",
        "    self.warmup_steps = warmup_steps\n",
        "\n",
        "  def __call__(self, step):\n",
        "    step = tf.cast(step, dtype=tf.float32)\n",
        "    arg1 = tf.math.rsqrt(step)\n",
        "    arg2 = step * (self.warmup_steps ** -1.5)\n",
        "\n",
        "    return tf.math.rsqrt(self.d_model) * tf.math.minimum(arg1, arg2)"
      ],
      "metadata": {
        "id": "gVwsoAiFu9hY"
      },
      "execution_count": 40,
      "outputs": []
    },
    {
      "cell_type": "code",
      "source": [],
      "metadata": {
        "id": "q_0S5dKQu-fK"
      },
      "execution_count": 40,
      "outputs": []
    },
    {
      "cell_type": "code",
      "source": [
        "learning_rate = CustomSchedule(128)\n",
        "\n",
        "optimizer = tf.keras.optimizers.Adam(learning_rate, beta_1=0.9, beta_2=0.98,\n",
        "                                     epsilon=1e-9)"
      ],
      "metadata": {
        "id": "_wgAgfX4adA0"
      },
      "execution_count": 41,
      "outputs": []
    },
    {
      "cell_type": "code",
      "execution_count": 47,
      "metadata": {
        "colab": {
          "base_uri": "https://localhost:8080/"
        },
        "id": "10-rsHphOdT1",
        "outputId": "e871a5fe-0091-4db7-a84a-3915f72b70af"
      },
      "outputs": [
        {
          "output_type": "stream",
          "name": "stdout",
          "text": [
            "Epoch 1/15\n",
            "157/157 [==============================] - 18s 68ms/step - loss: 0.0795 - mse: 0.0795 - val_loss: 0.0708 - val_mse: 0.0708\n",
            "Epoch 2/15\n",
            "157/157 [==============================] - 9s 58ms/step - loss: 0.0816 - mse: 0.0816 - val_loss: 0.0571 - val_mse: 0.0571\n",
            "Epoch 3/15\n",
            "157/157 [==============================] - 9s 59ms/step - loss: 0.0823 - mse: 0.0823 - val_loss: 0.0832 - val_mse: 0.0832\n",
            "Epoch 4/15\n",
            "157/157 [==============================] - 9s 59ms/step - loss: 0.0789 - mse: 0.0789 - val_loss: 0.0688 - val_mse: 0.0688\n",
            "Epoch 5/15\n",
            "157/157 [==============================] - 9s 55ms/step - loss: 0.0700 - mse: 0.0700 - val_loss: 0.0593 - val_mse: 0.0593\n",
            "Epoch 6/15\n",
            "157/157 [==============================] - 9s 56ms/step - loss: 0.0773 - mse: 0.0773 - val_loss: 0.0601 - val_mse: 0.0601\n",
            "Epoch 7/15\n",
            "157/157 [==============================] - 9s 57ms/step - loss: 0.0648 - mse: 0.0648 - val_loss: 0.0538 - val_mse: 0.0538\n",
            "Epoch 8/15\n",
            "157/157 [==============================] - 9s 57ms/step - loss: 0.0684 - mse: 0.0684 - val_loss: 0.0534 - val_mse: 0.0534\n",
            "Epoch 9/15\n",
            "157/157 [==============================] - 9s 58ms/step - loss: 0.0626 - mse: 0.0626 - val_loss: 0.0601 - val_mse: 0.0601\n",
            "Epoch 10/15\n",
            "157/157 [==============================] - 9s 57ms/step - loss: 0.0608 - mse: 0.0608 - val_loss: 0.0465 - val_mse: 0.0465\n",
            "Epoch 11/15\n",
            "157/157 [==============================] - 9s 57ms/step - loss: 0.0562 - mse: 0.0562 - val_loss: 0.0488 - val_mse: 0.0488\n",
            "Epoch 12/15\n",
            "157/157 [==============================] - 9s 56ms/step - loss: 0.0520 - mse: 0.0520 - val_loss: 0.0473 - val_mse: 0.0473\n",
            "Epoch 13/15\n",
            "157/157 [==============================] - 9s 55ms/step - loss: 0.0544 - mse: 0.0544 - val_loss: 0.0464 - val_mse: 0.0464\n",
            "Epoch 14/15\n",
            "157/157 [==============================] - 9s 56ms/step - loss: 0.0498 - mse: 0.0498 - val_loss: 0.0396 - val_mse: 0.0396\n",
            "Epoch 15/15\n",
            "157/157 [==============================] - 9s 59ms/step - loss: 0.0515 - mse: 0.0515 - val_loss: 0.0608 - val_mse: 0.0608\n"
          ]
        }
      ],
      "source": [
        "model.compile(optimizer=optimizer, loss=\"mse\", metrics=[\"mse\"])\n",
        "\n",
        "history = model.fit(smiles_train, sol_train, \n",
        "                    batch_size=64, epochs=15, \n",
        "                    validation_data=(smiles_val, sol_val)\n",
        "                   )\n"
      ]
    },
    {
      "cell_type": "code",
      "execution_count": 48,
      "metadata": {
        "id": "1DL8rSPfOwtF"
      },
      "outputs": [],
      "source": [
        "smiles_test = smiles[13000:16000]\n",
        "sol_test = sol[13000:16000]"
      ]
    },
    {
      "cell_type": "code",
      "source": [
        "model.evaluate(smiles_test, sol_test)"
      ],
      "metadata": {
        "colab": {
          "base_uri": "https://localhost:8080/"
        },
        "id": "bK0WXoIFtOTL",
        "outputId": "7e6251ed-e9e7-4aa4-ee4f-733949be2f8f"
      },
      "execution_count": 49,
      "outputs": [
        {
          "output_type": "stream",
          "name": "stdout",
          "text": [
            "94/94 [==============================] - 1s 15ms/step - loss: 0.0568 - mse: 0.0568\n"
          ]
        },
        {
          "output_type": "execute_result",
          "data": {
            "text/plain": [
              "[0.056843195110559464, 0.056843195110559464]"
            ]
          },
          "metadata": {},
          "execution_count": 49
        }
      ]
    },
    {
      "cell_type": "code",
      "source": [
        "preds = model.predict(smiles_test)"
      ],
      "metadata": {
        "colab": {
          "base_uri": "https://localhost:8080/"
        },
        "id": "UeS6-8kctSEh",
        "outputId": "554761bd-775c-462f-8074-1fbe76596921"
      },
      "execution_count": 50,
      "outputs": [
        {
          "output_type": "stream",
          "name": "stdout",
          "text": [
            "94/94 [==============================] - 3s 15ms/step\n"
          ]
        }
      ]
    },
    {
      "cell_type": "code",
      "source": [
        "import numpy as np\n",
        "import matplotlib.pyplot as plt\n",
        "\n",
        "# Fixing random state for reproducibility\n",
        "\n",
        "\n",
        "\n",
        "\n",
        "plt.xlabel(\"True Value\")\n",
        "plt.ylabel(\"Predicted Value\")\n",
        "plt.scatter(sol_test, preds, alpha=0.5)\n",
        "plt.show()"
      ],
      "metadata": {
        "colab": {
          "base_uri": "https://localhost:8080/",
          "height": 449
        },
        "id": "eEqQ1R3atV3X",
        "outputId": "90a23e77-bd9b-4e39-eb8f-2dad6826498f"
      },
      "execution_count": 51,
      "outputs": [
        {
          "output_type": "display_data",
          "data": {
            "text/plain": [
              "<Figure size 640x480 with 1 Axes>"
            ],
            "image/png": "[encoded data removed]"
          },
          "metadata": {}
        }
      ]
    },
    {
      "cell_type": "code",
      "source": [],
      "metadata": {
        "id": "crm-bAKBtrtx"
      },
      "execution_count": null,
      "outputs": []
    }
  ],
  "metadata": {
    "accelerator": "GPU",
    "colab": {
      "provenance": []
    },
    "kernelspec": {
      "display_name": "Python 3",
      "name": "python3"
    },
    "language_info": {
      "name": "python"
    }
  },
  "nbformat": 4,
  "nbformat_minor": 0
}